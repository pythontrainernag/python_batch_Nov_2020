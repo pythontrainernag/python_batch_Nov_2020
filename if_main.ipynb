{
 "cells": [
  {
   "cell_type": "code",
   "execution_count": 2,
   "metadata": {},
   "outputs": [
    {
     "name": "stdout",
     "output_type": "stream",
     "text": [
      "out of 2 variables, variable2 is greater\n",
      "inside conditionals statement\n",
      "outside\n"
     ]
    }
   ],
   "source": [
    "var1 = 20\n",
    "var2 = 30\n",
    "if var1 < var2:\n",
    "  print(\"out of 2 variables, variable2 is greater\")\n",
    "  print(\"inside conditionals statement\")\n",
    "print(\"outside\")"
   ]
  },
  {
   "cell_type": "code",
   "execution_count": 3,
   "metadata": {},
   "outputs": [
    {
     "name": "stdout",
     "output_type": "stream",
     "text": [
      "outside\n"
     ]
    }
   ],
   "source": [
    "if var1 > var2:\n",
    "  print(\"out of 2 variables, variable2 is greater\")\n",
    "  print(\"inside conditionals statement\")\n",
    "print(\"outside\")"
   ]
  },
  {
   "cell_type": "code",
   "execution_count": 16,
   "metadata": {},
   "outputs": [
    {
     "name": "stdout",
     "output_type": "stream",
     "text": [
      "outside\n"
     ]
    }
   ],
   "source": [
    "if var1 == var2:\n",
    "  print(\"out of 2 variables, variable2 is greater\")\n",
    "  print(\"inside conditionals statement\")\n",
    "print(\"outside\")"
   ]
  },
  {
   "cell_type": "code",
   "execution_count": 13,
   "metadata": {},
   "outputs": [
    {
     "name": "stdout",
     "output_type": "stream",
     "text": [
      "out of 2 variables, variable2 is greater\n",
      "inside conditionals statement\n",
      "outside\n",
      "outside\n"
     ]
    }
   ],
   "source": [
    "var1 = 20\n",
    "var2 = 30\n",
    "if var1 < var2:\n",
    "  print(\"out of 2 variables, variable2 is greater\")\n",
    "  print(\"inside conditionals statement\")\n",
    "print(\"outside\")\n",
    "if var1 == var2:\n",
    "  print(\"out of 2 variables, variable2 is greater\")\n",
    "  print(\"inside conditionals statement\")\n",
    "print(\"outside\")"
   ]
  },
  {
   "cell_type": "markdown",
   "metadata": {},
   "source": [
    "# conditional statements\n",
    "### If block\n",
    "execute block of statements only if condition satisfies"
   ]
  },
  {
   "cell_type": "code",
   "execution_count": 17,
   "metadata": {},
   "outputs": [
    {
     "name": "stdout",
     "output_type": "stream",
     "text": [
      "a is less than b\n"
     ]
    }
   ],
   "source": [
    "a= 10\n",
    "b = 20\n",
    "if a<b:\n",
    "    print(\"a is less than b\")"
   ]
  },
  {
   "cell_type": "code",
   "execution_count": null,
   "metadata": {},
   "outputs": [],
   "source": []
  },
  {
   "cell_type": "code",
   "execution_count": null,
   "metadata": {},
   "outputs": [],
   "source": []
  }
 ],
 "metadata": {
  "kernelspec": {
   "display_name": "Python 3",
   "language": "python",
   "name": "python3"
  },
  "language_info": {
   "codemirror_mode": {
    "name": "ipython",
    "version": 3
   },
   "file_extension": ".py",
   "mimetype": "text/x-python",
   "name": "python",
   "nbconvert_exporter": "python",
   "pygments_lexer": "ipython3",
   "version": "3.8.5"
  }
 },
 "nbformat": 4,
 "nbformat_minor": 4
}
