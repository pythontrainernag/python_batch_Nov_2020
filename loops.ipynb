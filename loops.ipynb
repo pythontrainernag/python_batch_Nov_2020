{
 "cells": [
  {
   "cell_type": "markdown",
   "metadata": {},
   "source": [
    "## Iterative statements"
   ]
  },
  {
   "cell_type": "raw",
   "metadata": {},
   "source": [
    "we will be using while and for keywords.\n",
    "if you want to execute a block of statements multiple times, then we will be using the iterative statements\n",
    "eg: 1 1 2 3 5 8\n",
    "eg: 11 ----> prime numbers"
   ]
  },
  {
   "cell_type": "code",
   "execution_count": 2,
   "metadata": {},
   "outputs": [
    {
     "name": "stdout",
     "output_type": "stream",
     "text": [
      "2\n",
      "3\n"
     ]
    }
   ],
   "source": [
    "a = 1+1\n",
    "print(a)\n",
    "a = 1+2\n",
    "print(a)"
   ]
  },
  {
   "cell_type": "raw",
   "metadata": {},
   "source": [
    "We should know 1. when to start the loop. 2. When to exit the loop based on condition. "
   ]
  },
  {
   "cell_type": "code",
   "execution_count": 4,
   "metadata": {},
   "outputs": [
    {
     "ename": "KeyboardInterrupt",
     "evalue": "",
     "output_type": "error",
     "traceback": [
      "\u001b[1;31m---------------------------------------------------------------------------\u001b[0m",
      "\u001b[1;31mKeyboardInterrupt\u001b[0m                         Traceback (most recent call last)",
      "\u001b[1;32m<ipython-input-4-b7133701d76c>\u001b[0m in \u001b[0;36m<module>\u001b[1;34m\u001b[0m\n\u001b[0;32m      1\u001b[0m \u001b[1;32mwhile\u001b[0m \u001b[1;32mTrue\u001b[0m\u001b[1;33m:\u001b[0m\u001b[1;33m\u001b[0m\u001b[1;33m\u001b[0m\u001b[0m\n\u001b[1;32m----> 2\u001b[1;33m     \u001b[1;32mpass\u001b[0m\u001b[1;33m\u001b[0m\u001b[1;33m\u001b[0m\u001b[0m\n\u001b[0m",
      "\u001b[1;31mKeyboardInterrupt\u001b[0m: "
     ]
    }
   ],
   "source": [
    "while True:\n",
    "    pass"
   ]
  },
  {
   "cell_type": "code",
   "execution_count": 5,
   "metadata": {},
   "outputs": [
    {
     "name": "stdout",
     "output_type": "stream",
     "text": [
      "1\n",
      "2\n"
     ]
    }
   ],
   "source": [
    "a = 1 \n",
    "while a<3:\n",
    "    print(a)\n",
    "    a += 1 # a = 2, 3"
   ]
  },
  {
   "cell_type": "raw",
   "metadata": {},
   "source": [
    "Syantax\n",
    "while <condition>:\n",
    "    st1\n",
    "    st2\n",
    "    |\n",
    "    |\n",
    "    |\n",
    "    stn\n",
    "main program"
   ]
  },
  {
   "cell_type": "markdown",
   "metadata": {},
   "source": [
    "#### Fibonacci series"
   ]
  },
  {
   "cell_type": "code",
   "execution_count": 7,
   "metadata": {},
   "outputs": [
    {
     "name": "stdout",
     "output_type": "stream",
     "text": [
      "1,1,2,3,5,8,13,21,"
     ]
    }
   ],
   "source": [
    "a = 1 \n",
    "b = 1\n",
    "while a < 30:\n",
    "    print(a, end=\",\")\n",
    "    a,b = b,a+b"
   ]
  },
  {
   "cell_type": "code",
   "execution_count": 8,
   "metadata": {},
   "outputs": [
    {
     "name": "stdout",
     "output_type": "stream",
     "text": [
      "2,8,34,"
     ]
    }
   ],
   "source": [
    "a = 1 \n",
    "b = 1\n",
    "while a < 100:\n",
    "    if a%2 == 0:\n",
    "        print(a, end=\",\")\n",
    "    a,b = b,a+b"
   ]
  },
  {
   "cell_type": "code",
   "execution_count": 9,
   "metadata": {},
   "outputs": [
    {
     "name": "stdout",
     "output_type": "stream",
     "text": [
      "1,1,3,5,13,21,55,89,"
     ]
    }
   ],
   "source": [
    "a = 1 \n",
    "b = 1\n",
    "while a < 100:\n",
    "    if a%2 != 0:\n",
    "        print(a, end=\",\")\n",
    "    a,b = b,a+b"
   ]
  },
  {
   "cell_type": "code",
   "execution_count": 10,
   "metadata": {},
   "outputs": [
    {
     "ename": "TypeError",
     "evalue": "'<' not supported between instances of 'str' and 'int'",
     "output_type": "error",
     "traceback": [
      "\u001b[1;31m---------------------------------------------------------------------------\u001b[0m",
      "\u001b[1;31mTypeError\u001b[0m                                 Traceback (most recent call last)",
      "\u001b[1;32m<ipython-input-10-6f547383b029>\u001b[0m in \u001b[0;36m<module>\u001b[1;34m\u001b[0m\n\u001b[0;32m      1\u001b[0m \u001b[0mravi\u001b[0m \u001b[1;33m=\u001b[0m \u001b[1;34m\"Hello World\"\u001b[0m\u001b[1;33m\u001b[0m\u001b[1;33m\u001b[0m\u001b[0m\n\u001b[1;32m----> 2\u001b[1;33m \u001b[1;32mwhile\u001b[0m \u001b[0mravi\u001b[0m \u001b[1;33m<\u001b[0m \u001b[1;36m5\u001b[0m\u001b[1;33m:\u001b[0m\u001b[1;33m\u001b[0m\u001b[1;33m\u001b[0m\u001b[0m\n\u001b[0m\u001b[0;32m      3\u001b[0m     \u001b[1;32mpass\u001b[0m\u001b[1;33m\u001b[0m\u001b[1;33m\u001b[0m\u001b[0m\n",
      "\u001b[1;31mTypeError\u001b[0m: '<' not supported between instances of 'str' and 'int'"
     ]
    }
   ],
   "source": [
    "ravi = \"Hello World\"\n",
    "while ravi < 5: \n",
    "    pass"
   ]
  },
  {
   "cell_type": "code",
   "execution_count": 11,
   "metadata": {},
   "outputs": [
    {
     "name": "stdout",
     "output_type": "stream",
     "text": [
      "hello World\n",
      "hello World\n",
      "hello World\n",
      "hello World\n",
      "hello World\n"
     ]
    }
   ],
   "source": [
    "i = 1\n",
    "while i <=5:\n",
    "    print(\"hello World\")\n",
    "    i += 1"
   ]
  },
  {
   "cell_type": "code",
   "execution_count": 13,
   "metadata": {},
   "outputs": [
    {
     "name": "stdout",
     "output_type": "stream",
     "text": [
      "enter number of time to print 10\n",
      "hello World\n",
      "hello World\n",
      "hello World\n",
      "hello World\n",
      "hello World\n"
     ]
    }
   ],
   "source": [
    "i = 1\n",
    "b = int(input(\"enter number of time to print \"))\n",
    "while i <=b:\n",
    "    print(\"hello World\")\n",
    "    i += 2"
   ]
  },
  {
   "cell_type": "code",
   "execution_count": 14,
   "metadata": {},
   "outputs": [
    {
     "name": "stdout",
     "output_type": "stream",
     "text": [
      "enter number of time to print 5\n",
      "hello World\n",
      "hello World\n",
      "hello World\n",
      "hello World\n",
      "hello World\n"
     ]
    }
   ],
   "source": [
    "i = 1\n",
    "b = int(input(\"enter number of time to print \"))\n",
    "b = b*2\n",
    "while i <=b:\n",
    "    print(\"hello World\")\n",
    "    i += 2"
   ]
  },
  {
   "cell_type": "code",
   "execution_count": 15,
   "metadata": {},
   "outputs": [
    {
     "name": "stdout",
     "output_type": "stream",
     "text": [
      "enter number of time to print 5\n",
      "5\n",
      "10\n",
      "hello World\n",
      "hello World\n",
      "hello World\n",
      "hello World\n",
      "hello World\n"
     ]
    }
   ],
   "source": [
    "i = 1\n",
    "b = int(input(\"enter number of time to print \"))\n",
    "print(b)\n",
    "b = b*2\n",
    "print(b)\n",
    "while i <=b:\n",
    "    print(\"hello World\")\n",
    "    i += 2"
   ]
  },
  {
   "cell_type": "code",
   "execution_count": 16,
   "metadata": {},
   "outputs": [
    {
     "name": "stdout",
     "output_type": "stream",
     "text": [
      "enter number of time to print 10\n",
      "10\n",
      "20\n",
      "hello World\n",
      "hello World\n",
      "hello World\n",
      "hello World\n",
      "hello World\n",
      "hello World\n",
      "hello World\n",
      "hello World\n",
      "hello World\n",
      "hello World\n"
     ]
    }
   ],
   "source": [
    "i = 1\n",
    "b = int(input(\"enter number of time to print \"))\n",
    "print(b)\n",
    "b = b*2\n",
    "print(b)\n",
    "while i <=b:\n",
    "    print(\"hello World\")\n",
    "    i += 2"
   ]
  },
  {
   "cell_type": "code",
   "execution_count": 17,
   "metadata": {},
   "outputs": [
    {
     "name": "stdout",
     "output_type": "stream",
     "text": [
      "enter number of time to print 25\n",
      "25\n",
      "50\n",
      "hello World\n",
      "hello World\n",
      "hello World\n",
      "hello World\n",
      "hello World\n",
      "hello World\n",
      "hello World\n",
      "hello World\n",
      "hello World\n",
      "hello World\n",
      "hello World\n",
      "hello World\n",
      "hello World\n",
      "hello World\n",
      "hello World\n",
      "hello World\n",
      "hello World\n",
      "hello World\n",
      "hello World\n",
      "hello World\n",
      "hello World\n",
      "hello World\n",
      "hello World\n",
      "hello World\n",
      "hello World\n"
     ]
    }
   ],
   "source": [
    "i = 1\n",
    "b = int(input(\"enter number of time to print \"))\n",
    "print(b)\n",
    "b = b*2\n",
    "print(b)\n",
    "while i <=b:\n",
    "    print(\"hello World\")\n",
    "    i += 2"
   ]
  },
  {
   "cell_type": "code",
   "execution_count": 18,
   "metadata": {},
   "outputs": [
    {
     "name": "stdout",
     "output_type": "stream",
     "text": [
      "enter the number to check for prime5\n",
      "prime\n"
     ]
    }
   ],
   "source": [
    "n = int(input(\"enter the number to check for prime\"))\n",
    "a = 1\n",
    "count = 0\n",
    "while a<=n:\n",
    "    if n%a == 0:\n",
    "        count += 1\n",
    "    a += 1\n",
    "\n",
    "if count == 2:\n",
    "    print(\"prime\")\n",
    "else:\n",
    "    print(\"not prime\")"
   ]
  },
  {
   "cell_type": "code",
   "execution_count": 19,
   "metadata": {},
   "outputs": [
    {
     "name": "stdout",
     "output_type": "stream",
     "text": [
      "enter the number to check for prime9\n",
      "not prime\n"
     ]
    }
   ],
   "source": [
    "n = int(input(\"enter the number to check for prime\"))\n",
    "a = 1\n",
    "count = 0\n",
    "while a<=n:\n",
    "    if n%a == 0:\n",
    "        count += 1\n",
    "    a += 1\n",
    "\n",
    "if count == 2:\n",
    "    print(\"prime\")\n",
    "else:\n",
    "    print(\"not prime\")"
   ]
  },
  {
   "cell_type": "code",
   "execution_count": 20,
   "metadata": {},
   "outputs": [
    {
     "name": "stdout",
     "output_type": "stream",
     "text": [
      "enter the number to check for prime5\n",
      "################\n",
      "5\n",
      "1\n",
      "count is 1\n",
      "################\n",
      "5\n",
      "2\n",
      "count is 1\n",
      "################\n",
      "5\n",
      "3\n",
      "count is 1\n",
      "################\n",
      "5\n",
      "4\n",
      "count is 1\n",
      "################\n",
      "5\n",
      "5\n",
      "count is 2\n",
      "prime\n"
     ]
    }
   ],
   "source": [
    "n = int(input(\"enter the number to check for prime\"))\n",
    "a = 1\n",
    "count = 0\n",
    "while a<=n:\n",
    "    print(\"################\")\n",
    "    print(n)\n",
    "    print(a)\n",
    "    if n%a == 0:\n",
    "        count += 1\n",
    "    print(\"count is\", count)\n",
    "    a += 1\n",
    "\n",
    "if count == 2:\n",
    "    print(\"prime\")\n",
    "else:\n",
    "    print(\"not prime\")"
   ]
  },
  {
   "cell_type": "code",
   "execution_count": null,
   "metadata": {},
   "outputs": [],
   "source": []
  }
 ],
 "metadata": {
  "kernelspec": {
   "display_name": "Python 3",
   "language": "python",
   "name": "python3"
  },
  "language_info": {
   "codemirror_mode": {
    "name": "ipython",
    "version": 3
   },
   "file_extension": ".py",
   "mimetype": "text/x-python",
   "name": "python",
   "nbconvert_exporter": "python",
   "pygments_lexer": "ipython3",
   "version": "3.8.5"
  }
 },
 "nbformat": 4,
 "nbformat_minor": 4
}
