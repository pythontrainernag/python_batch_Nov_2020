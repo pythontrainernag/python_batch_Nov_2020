{
 "cells": [
  {
   "cell_type": "code",
   "execution_count": 8,
   "metadata": {},
   "outputs": [
    {
     "name": "stdout",
     "output_type": "stream",
     "text": [
      "400\n",
      "Time taken to execute function for first time with value 20 is 10.000680923461914\n",
      "400\n",
      "Time taken to execute function for second time with value 20 is 10.001539945602417\n",
      "400\n",
      "Time taken to execute function for second time with value 20 is 0.0\n"
     ]
    }
   ],
   "source": [
    "from time import time, sleep\n",
    "from functools import lru_cache\n",
    "\n",
    "@lru_cache()\n",
    "def calculate(n, n1):\n",
    "    sleep(10)\n",
    "    return n*n\n",
    "t1 = time()\n",
    "print(calculate(20, 20))\n",
    "print(\"Time taken to execute function for first time with value 20 is\", time()-t1)\n",
    "\n",
    "t1 = time()\n",
    "print(calculate(20, 30))\n",
    "print(\"Time taken to execute function for second time with value 20 is\", time()-t1)\n",
    "\n",
    "t1 = time()\n",
    "print(calculate(20, 20))\n",
    "print(\"Time taken to execute function for second time with value 20 is\", time()-t1)"
   ]
  },
  {
   "cell_type": "code",
   "execution_count": null,
   "metadata": {},
   "outputs": [],
   "source": []
  }
 ],
 "metadata": {
  "kernelspec": {
   "display_name": "Python 3",
   "language": "python",
   "name": "python3"
  },
  "language_info": {
   "codemirror_mode": {
    "name": "ipython",
    "version": 3
   },
   "file_extension": ".py",
   "mimetype": "text/x-python",
   "name": "python",
   "nbconvert_exporter": "python",
   "pygments_lexer": "ipython3",
   "version": "3.8.5"
  }
 },
 "nbformat": 4,
 "nbformat_minor": 4
}
