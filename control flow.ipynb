{
 "cells": [
  {
   "cell_type": "raw",
   "metadata": {},
   "source": [
    "1. execute block of statements if condition satisfies\n",
    "2. execute block of statements if condition satisfies otherwise execute alternative block of statements.\n",
    "     In this part we will using one more keyword else along with if"
   ]
  },
  {
   "cell_type": "code",
   "execution_count": 2,
   "metadata": {},
   "outputs": [],
   "source": [
    "a = 10"
   ]
  },
  {
   "cell_type": "code",
   "execution_count": 3,
   "metadata": {},
   "outputs": [
    {
     "name": "stdout",
     "output_type": "stream",
     "text": [
      "b is a greater value with 5\n"
     ]
    }
   ],
   "source": [
    "b = 20\n",
    "if a>b:\n",
    "    a = a+15 \n",
    "    print(\"a is a greater value with\", a)\n",
    "else:\n",
    "    b = a-5\n",
    "    print(\"b is a greater value with\", b)"
   ]
  },
  {
   "cell_type": "code",
   "execution_count": 4,
   "metadata": {},
   "outputs": [
    {
     "data": {
      "text/plain": [
       "10"
      ]
     },
     "execution_count": 4,
     "metadata": {},
     "output_type": "execute_result"
    }
   ],
   "source": [
    "a"
   ]
  },
  {
   "cell_type": "code",
   "execution_count": 5,
   "metadata": {},
   "outputs": [
    {
     "data": {
      "text/plain": [
       "5"
      ]
     },
     "execution_count": 5,
     "metadata": {},
     "output_type": "execute_result"
    }
   ],
   "source": [
    "b"
   ]
  },
  {
   "cell_type": "code",
   "execution_count": 6,
   "metadata": {},
   "outputs": [],
   "source": [
    "a = 10"
   ]
  },
  {
   "cell_type": "code",
   "execution_count": 8,
   "metadata": {},
   "outputs": [],
   "source": [
    "b = 20\n"
   ]
  },
  {
   "cell_type": "code",
   "execution_count": 9,
   "metadata": {},
   "outputs": [
    {
     "name": "stdout",
     "output_type": "stream",
     "text": [
      "a is a greater value with 25\n"
     ]
    }
   ],
   "source": [
    "if a<b:\n",
    "    a = a+15 \n",
    "    print(\"a is a greater value with\", a)\n",
    "else:\n",
    "    b = a-5\n",
    "    print(\"b is a greater value with\", b)"
   ]
  },
  {
   "cell_type": "code",
   "execution_count": 16,
   "metadata": {},
   "outputs": [
    {
     "name": "stdout",
     "output_type": "stream",
     "text": [
      "25,20,20,30\n"
     ]
    }
   ],
   "source": [
    "print(a, b, 20, 30, sep=\",\")"
   ]
  },
  {
   "cell_type": "markdown",
   "metadata": {},
   "source": [
    "I need to travel to Hyderabad. I prefer to travel by bus if tickets are available otherwise I will ride a bike. WAP to find the mode of travel. As of now read the ticket availability as a variable"
   ]
  },
  {
   "cell_type": "code",
   "execution_count": 17,
   "metadata": {},
   "outputs": [
    {
     "name": "stdout",
     "output_type": "stream",
     "text": [
      "enter 1 for tickets available 0 for not available1\n",
      "I am travelling to hyderabad by bus\n"
     ]
    }
   ],
   "source": [
    "ticket_available = int(input(\"enter 1 for tickets available 0 for not available\"))\n",
    "if ticket_available == 1:\n",
    "    print(\"I am travelling to hyderabad by bus\")\n",
    "else:\n",
    "    print(\"I am riding a bike towards Hyderabad\")"
   ]
  },
  {
   "cell_type": "code",
   "execution_count": 18,
   "metadata": {},
   "outputs": [
    {
     "name": "stdout",
     "output_type": "stream",
     "text": [
      "enter 1 for tickets available 0 for not available0\n",
      "I am riding a bike towards Hyderabad\n"
     ]
    }
   ],
   "source": [
    "ticket_available = int(input(\"enter 1 for tickets available 0 for not available\"))\n",
    "if ticket_available == 1:\n",
    "    print(\"I am travelling to hyderabad by bus\")\n",
    "else:\n",
    "    print(\"I am riding a bike towards Hyderabad\")"
   ]
  },
  {
   "cell_type": "raw",
   "metadata": {},
   "source": [
    "Read two values from console. if two values are equal then it indicates error input. if two values are not equal the output should be val1 is greater"
   ]
  },
  {
   "cell_type": "markdown",
   "metadata": {},
   "source": [
    "### 3. execute block of statements based on compound condition\n",
    "1. Till now we have seen a simple conditions like a>b, a<b, a==b etc.\n",
    "2. A compound condition is a group of condition. Eg: a must be greater than b and c\n",
    "3. I will be binary logical operators(and, or) to group the mutiple conditions based on business scenario\n",
    "4. From the above example, I can have my condition as a>b and a>c"
   ]
  },
  {
   "cell_type": "markdown",
   "metadata": {},
   "source": [
    "I need to travel to Hyderabad. I prefer to travel by bus if tickets are available otherwise I will ride a bike. WAP to find the mode of travel. As of now read the ticket availability as a variable"
   ]
  },
  {
   "cell_type": "code",
   "execution_count": 20,
   "metadata": {},
   "outputs": [
    {
     "name": "stdout",
     "output_type": "stream",
     "text": [
      "enter 1 for tickets available 0 for not available2\n",
      "invalid input\n",
      "I am riding a bike towards Hyderabad\n"
     ]
    }
   ],
   "source": [
    "ticket_available = int(input(\"enter 1 for tickets available 0 for not available\"))\n",
    "if ticket_available != 1 and ticket_available != 0:\n",
    "    print(\"invalid input\")\n",
    "if ticket_available == 1:\n",
    "    print(\"I am travelling to hyderabad by bus\")\n",
    "else:\n",
    "    print(\"I am riding a bike towards Hyderabad\")"
   ]
  },
  {
   "cell_type": "code",
   "execution_count": 21,
   "metadata": {},
   "outputs": [
    {
     "name": "stdout",
     "output_type": "stream",
     "text": [
      "enter 1 for tickets available 0 for not available10\n",
      "invalid input\n",
      "I am riding a bike towards Hyderabad\n"
     ]
    }
   ],
   "source": [
    "ticket_available = int(input(\"enter 1 for tickets available 0 for not available\"))\n",
    "if ticket_available != 1 and ticket_available != 0:\n",
    "    print(\"invalid input\")\n",
    "if ticket_available == 1:\n",
    "    print(\"I am travelling to hyderabad by bus\")\n",
    "else:\n",
    "    print(\"I am riding a bike towards Hyderabad\")"
   ]
  },
  {
   "cell_type": "code",
   "execution_count": 22,
   "metadata": {},
   "outputs": [
    {
     "name": "stdout",
     "output_type": "stream",
     "text": [
      "enter 1 for tickets available 0 for not available1\n",
      "I am travelling to hyderabad by bus\n"
     ]
    }
   ],
   "source": [
    "ticket_available = int(input(\"enter 1 for tickets available 0 for not available\"))\n",
    "if ticket_available != 1 and ticket_available != 0:\n",
    "    print(\"invalid input\")\n",
    "if ticket_available == 1:\n",
    "    print(\"I am travelling to hyderabad by bus\")\n",
    "else:\n",
    "    print(\"I am riding a bike towards Hyderabad\")"
   ]
  },
  {
   "cell_type": "code",
   "execution_count": 23,
   "metadata": {},
   "outputs": [
    {
     "name": "stdout",
     "output_type": "stream",
     "text": [
      "enter 1 for tickets available 0 for not available10\n",
      "invalid input\n",
      "I am riding a bike towards Hyderabad\n"
     ]
    }
   ],
   "source": [
    "ticket_available = int(input(\"enter 1 for tickets available 0 for not available\"))\n",
    "if not (ticket_available == 1 or ticket_available == 0):\n",
    "    print(\"invalid input\")\n",
    "if ticket_available == 1:\n",
    "    print(\"I am travelling to hyderabad by bus\")\n",
    "else:\n",
    "    print(\"I am riding a bike towards Hyderabad\")"
   ]
  },
  {
   "cell_type": "code",
   "execution_count": 24,
   "metadata": {},
   "outputs": [
    {
     "data": {
      "text/plain": [
       "False"
      ]
     },
     "execution_count": 24,
     "metadata": {},
     "output_type": "execute_result"
    }
   ],
   "source": [
    "not True\n"
   ]
  },
  {
   "cell_type": "code",
   "execution_count": 25,
   "metadata": {},
   "outputs": [
    {
     "data": {
      "text/plain": [
       "True"
      ]
     },
     "execution_count": 25,
     "metadata": {},
     "output_type": "execute_result"
    }
   ],
   "source": [
    "not False"
   ]
  },
  {
   "cell_type": "code",
   "execution_count": 26,
   "metadata": {},
   "outputs": [
    {
     "name": "stdout",
     "output_type": "stream",
     "text": [
      "enter 1 for tickets available 0 for not available1\n",
      "I am travelling to hyderabad by bus\n"
     ]
    }
   ],
   "source": [
    "ticket_available = int(input(\"enter 1 for tickets available 0 for not available \"))\n",
    "if not (ticket_available == 1 or ticket_available == 0):\n",
    "    print(\"invalid input\")\n",
    "if ticket_available == 1:\n",
    "    print(\"I am travelling to hyderabad by bus\")\n",
    "else:\n",
    "    print(\"I am riding a bike towards Hyderabad\")"
   ]
  },
  {
   "cell_type": "code",
   "execution_count": 27,
   "metadata": {},
   "outputs": [
    {
     "name": "stdout",
     "output_type": "stream",
     "text": [
      "enter 1 for tickets available 0 for not available 2\n",
      "invalid input\n",
      "I am riding a bike towards Hyderabad\n"
     ]
    }
   ],
   "source": [
    "ticket_available = int(input(\"enter 1 for tickets available 0 for not available \"))\n",
    "if not (ticket_available == 1 or ticket_available == 0):\n",
    "    print(\"invalid input\")\n",
    "if ticket_available == 1:\n",
    "    print(\"I am travelling to hyderabad by bus\")\n",
    "else:\n",
    "    print(\"I am riding a bike towards Hyderabad\")"
   ]
  },
  {
   "cell_type": "code",
   "execution_count": 28,
   "metadata": {},
   "outputs": [
    {
     "name": "stdout",
     "output_type": "stream",
     "text": [
      "enter 1 for tickets available 0 for not available 3\n",
      "invalid input\n"
     ]
    }
   ],
   "source": [
    "ticket_available = int(input(\"enter 1 for tickets available 0 for not available \"))\n",
    "if not (ticket_available == 1 or ticket_available == 0):\n",
    "    print(\"invalid input\")\n",
    "else:\n",
    "    if ticket_available == 1:\n",
    "        print(\"I am travelling to hyderabad by bus\")\n",
    "    else:\n",
    "        print(\"I am riding a bike towards Hyderabad\")"
   ]
  },
  {
   "cell_type": "code",
   "execution_count": 29,
   "metadata": {},
   "outputs": [
    {
     "name": "stdout",
     "output_type": "stream",
     "text": [
      "enter 1 for tickets available 0 for not available 1\n",
      "I am travelling to hyderabad by bus\n"
     ]
    }
   ],
   "source": [
    "ticket_available = int(input(\"enter 1 for tickets available 0 for not available \"))\n",
    "if not (ticket_available == 1 or ticket_available == 0):\n",
    "    print(\"invalid input\")\n",
    "else:\n",
    "    if ticket_available == 1:\n",
    "        print(\"I am travelling to hyderabad by bus\")\n",
    "    else:\n",
    "        print(\"I am riding a bike towards Hyderabad\")"
   ]
  },
  {
   "cell_type": "code",
   "execution_count": 30,
   "metadata": {},
   "outputs": [
    {
     "name": "stdout",
     "output_type": "stream",
     "text": [
      "enter 1 for tickets available 0 for not available 0\n",
      "I am riding a bike towards Hyderabad\n"
     ]
    }
   ],
   "source": [
    "ticket_available = int(input(\"enter 1 for tickets available 0 for not available \"))\n",
    "if not (ticket_available == 1 or ticket_available == 0):\n",
    "    print(\"invalid input\")\n",
    "else:\n",
    "    if ticket_available == 1:\n",
    "        print(\"I am travelling to hyderabad by bus\")\n",
    "    else:\n",
    "        print(\"I am riding a bike towards Hyderabad\")"
   ]
  },
  {
   "cell_type": "code",
   "execution_count": null,
   "metadata": {},
   "outputs": [],
   "source": []
  }
 ],
 "metadata": {
  "kernelspec": {
   "display_name": "Python 3",
   "language": "python",
   "name": "python3"
  },
  "language_info": {
   "codemirror_mode": {
    "name": "ipython",
    "version": 3
   },
   "file_extension": ".py",
   "mimetype": "text/x-python",
   "name": "python",
   "nbconvert_exporter": "python",
   "pygments_lexer": "ipython3",
   "version": "3.8.5"
  }
 },
 "nbformat": 4,
 "nbformat_minor": 4
}
