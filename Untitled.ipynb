{
 "cells": [
  {
   "cell_type": "code",
   "execution_count": 1,
   "metadata": {},
   "outputs": [
    {
     "name": "stdout",
     "output_type": "stream",
     "text": [
      "True\n"
     ]
    }
   ],
   "source": [
    "print(4>3)"
   ]
  },
  {
   "cell_type": "markdown",
   "metadata": {},
   "source": [
    "# 1. execute block of statements only when condition is satisfied"
   ]
  },
  {
   "cell_type": "raw",
   "metadata": {},
   "source": [
    "if is used to indicate whether condition has been satisfied or not?"
   ]
  },
  {
   "cell_type": "raw",
   "metadata": {},
   "source": [
    "syntax\n",
    "if condition:\n",
    "    st1\n",
    "    st2\n",
    "    |\n",
    "    |\n",
    "    stn\n",
    "ns"
   ]
  },
  {
   "cell_type": "code",
   "execution_count": 2,
   "metadata": {},
   "outputs": [
    {
     "name": "stdout",
     "output_type": "stream",
     "text": [
      "enter a value5\n",
      "enter b value10\n",
      "values are taken from user\n",
      "condition1 verified\n",
      "hello2\n",
      "b value is greater\n",
      "condition2 verified\n"
     ]
    }
   ],
   "source": [
    "a = int(input(\"enter a value\"))\n",
    "b = int(input(\"enter b value\"))\n",
    "print(\"values are taken from user\")\n",
    "if a>b:\n",
    "    print(\"hello\")\n",
    "    print(\"a value is greater\")\n",
    "print(\"condition1 verified\")\n",
    "if a<b:\n",
    "    print(\"hello2\")\n",
    "    print(\"b value is greater\")\n",
    "print(\"condition2 verified\")"
   ]
  },
  {
   "cell_type": "code",
   "execution_count": 3,
   "metadata": {},
   "outputs": [
    {
     "ename": "IndentationError",
     "evalue": "unexpected indent (<ipython-input-3-265b049c3b67>, line 7)",
     "output_type": "error",
     "traceback": [
      "\u001b[1;36m  File \u001b[1;32m\"<ipython-input-3-265b049c3b67>\"\u001b[1;36m, line \u001b[1;32m7\u001b[0m\n\u001b[1;33m    print(\"a value is greater\")\u001b[0m\n\u001b[1;37m    ^\u001b[0m\n\u001b[1;31mIndentationError\u001b[0m\u001b[1;31m:\u001b[0m unexpected indent\n"
     ]
    }
   ],
   "source": [
    "a = int(input(\"enter a value\"))\n",
    "b = int(input(\"enter b value\"))\n",
    "print(\"values are taken from user\")\n",
    "if a>b:\n",
    "    print(\"hello\")\n",
    "print(\"inside 1st conditional block\")\n",
    "    print(\"a value is greater\")\n",
    "print(\"condition1 verified\")\n",
    "if a<b:\n",
    "    print(\"hello2\")\n",
    "    print(\"b value is greater\")\n",
    "print(\"condition2 verified\")"
   ]
  },
  {
   "cell_type": "code",
   "execution_count": 6,
   "metadata": {},
   "outputs": [
    {
     "name": "stdout",
     "output_type": "stream",
     "text": [
      "enter a value5\n",
      "enter b value10\n",
      "values are taken from user\n",
      "condition1 verified\n",
      "hello2\n",
      "b value is greater\n",
      "condition2 verified\n"
     ]
    }
   ],
   "source": [
    "a = int(input(\"enter a value\"))\n",
    "b = int(input(\"enter b value\"))\n",
    "print(\"values are taken from user\")\n",
    "if a>b:\n",
    "    print(\"hello\")\n",
    "    print(\"inside 1st conditional block\")\n",
    "    print(\"a value is greater\")\n",
    "print(\"condition1 verified\")\n",
    "if a<b:\n",
    "    print(\"hello2\")\n",
    "    print(\"b value is greater\")\n",
    "print(\"condition2 verified\")"
   ]
  },
  {
   "cell_type": "code",
   "execution_count": 7,
   "metadata": {},
   "outputs": [
    {
     "name": "stdout",
     "output_type": "stream",
     "text": [
      "enter a value15\n",
      "enter b value10\n",
      "values are taken from user\n",
      "hello\n",
      "inside 1st conditional block\n",
      "a value is greater\n",
      "condition1 verified\n",
      "condition2 verified\n"
     ]
    }
   ],
   "source": [
    "a = int(input(\"enter a value\"))\n",
    "b = int(input(\"enter b value\"))\n",
    "print(\"values are taken from user\")\n",
    "if a>b:\n",
    "    print(\"hello\")\n",
    "    print(\"inside 1st conditional block\")\n",
    "    print(\"a value is greater\")\n",
    "print(\"condition1 verified\")\n",
    "if a<b:\n",
    "    print(\"hello2\")\n",
    "    print(\"b value is greater\")\n",
    "print(\"condition2 verified\")"
   ]
  },
  {
   "cell_type": "code",
   "execution_count": 8,
   "metadata": {},
   "outputs": [
    {
     "name": "stdout",
     "output_type": "stream",
     "text": [
      "I have booked tickets to chennai. I am going to start my journey\n"
     ]
    }
   ],
   "source": [
    "tickets_available = True\n",
    "if tickets_available:\n",
    "    print(\"I have booked tickets to chennai. I am going to start my journey\")"
   ]
  },
  {
   "cell_type": "code",
   "execution_count": 10,
   "metadata": {},
   "outputs": [],
   "source": [
    "tickets_available = False\n",
    "if tickets_available:\n",
    "    print(\"I have booked tickets to chennai. I am going to start my journey\")"
   ]
  },
  {
   "cell_type": "code",
   "execution_count": 1,
   "metadata": {},
   "outputs": [
    {
     "name": "stdout",
     "output_type": "stream",
     "text": [
      "enter a value 0\n"
     ]
    }
   ],
   "source": [
    "a = int(input(\"enter a value \"))\n",
    "if a:\n",
    "    print(\"entered non zero value\")"
   ]
  },
  {
   "cell_type": "code",
   "execution_count": 2,
   "metadata": {},
   "outputs": [
    {
     "name": "stdout",
     "output_type": "stream",
     "text": [
      "enter a value 5\n",
      "entered non zero value\n"
     ]
    }
   ],
   "source": [
    "a = int(input(\"enter a value \"))\n",
    "if a:\n",
    "    print(\"entered non zero value\")"
   ]
  },
  {
   "cell_type": "code",
   "execution_count": 3,
   "metadata": {},
   "outputs": [
    {
     "name": "stdout",
     "output_type": "stream",
     "text": [
      "enter ravi's lucky number5\n",
      "enter nag's lucky number5\n"
     ]
    }
   ],
   "source": [
    "first_val = int(input(\"enter ravi's lucky number\"))\n",
    "sec_val = int(input(\"enter nag's lucky number\"))"
   ]
  },
  {
   "cell_type": "code",
   "execution_count": 4,
   "metadata": {},
   "outputs": [
    {
     "name": "stdout",
     "output_type": "stream",
     "text": [
      "enter ravi's lucky number5\n",
      "enter nag's lucky number6\n",
      "Ravi is winner\n"
     ]
    }
   ],
   "source": [
    "first_val = int(input(\"enter ravi's lucky number\"))\n",
    "sec_val = int(input(\"enter nag's lucky number\"))\n",
    "if first_val > sec_val:\n",
    "    print(\"nag is winner\")\n",
    "else:\n",
    "    print(\"Ravi is winner\")"
   ]
  },
  {
   "cell_type": "code",
   "execution_count": 5,
   "metadata": {},
   "outputs": [
    {
     "name": "stdout",
     "output_type": "stream",
     "text": [
      "enter ravi's lucky number6\n",
      "enter nag's lucky number5\n",
      "nag is winner\n"
     ]
    }
   ],
   "source": [
    "first_val = int(input(\"enter ravi's lucky number\"))\n",
    "sec_val = int(input(\"enter nag's lucky number\"))\n",
    "if first_val > sec_val:\n",
    "    print(\"nag is winner\")\n",
    "else:\n",
    "    print(\"Ravi is winner\")"
   ]
  },
  {
   "cell_type": "code",
   "execution_count": 6,
   "metadata": {},
   "outputs": [
    {
     "name": "stdout",
     "output_type": "stream",
     "text": [
      "enter ravi's lucky number6\n",
      "enter nag's lucky number5\n",
      "nag is winner\n",
      "Yahoo game done\n"
     ]
    }
   ],
   "source": [
    "first_val = int(input(\"enter ravi's lucky number\"))\n",
    "sec_val = int(input(\"enter nag's lucky number\"))\n",
    "if first_val > sec_val:\n",
    "    print(\"nag is winner\")\n",
    "else:\n",
    "    print(\"Ravi is winner\")\n",
    "print(\"Yahoo game done\")"
   ]
  },
  {
   "cell_type": "code",
   "execution_count": 7,
   "metadata": {},
   "outputs": [
    {
     "name": "stdout",
     "output_type": "stream",
     "text": [
      "enter ravi's lucky number5\n",
      "enter nag's lucky number6\n",
      "Ravi is winner\n",
      "Yahoo game done\n"
     ]
    }
   ],
   "source": [
    "first_val = int(input(\"enter ravi's lucky number\"))\n",
    "sec_val = int(input(\"enter nag's lucky number\"))\n",
    "if first_val > sec_val:\n",
    "    print(\"nag is winner\")\n",
    "else:\n",
    "    print(\"Ravi is winner\")\n",
    "print(\"Yahoo game done\")"
   ]
  },
  {
   "cell_type": "code",
   "execution_count": 8,
   "metadata": {},
   "outputs": [
    {
     "name": "stdout",
     "output_type": "stream",
     "text": [
      "enter ravi's lucky number5\n",
      "enter nag's lucky number6\n",
      "Ravi is winner\n",
      "Yahoo game done\n"
     ]
    }
   ],
   "source": [
    "first_val = int(input(\"enter ravi's lucky number\"))\n",
    "sec_val = int(input(\"enter nag's lucky number\"))\n",
    "if first_val < sec_val:\n",
    "    print(\"Ravi is winner\")\n",
    "else:\n",
    "    print(\"nag is winner\")\n",
    "print(\"Yahoo game done\")"
   ]
  },
  {
   "cell_type": "code",
   "execution_count": 9,
   "metadata": {},
   "outputs": [
    {
     "name": "stdout",
     "output_type": "stream",
     "text": [
      "enter a value 0\n",
      "entered zero which is invalid\n"
     ]
    }
   ],
   "source": [
    "a = int(input(\"enter a value \"))\n",
    "if a:\n",
    "    print(\"entered non zero value\")\n",
    "else:\n",
    "    print(\"entered zero which is invalid\")"
   ]
  },
  {
   "cell_type": "code",
   "execution_count": 10,
   "metadata": {},
   "outputs": [
    {
     "name": "stdout",
     "output_type": "stream",
     "text": [
      "enter a value 5\n",
      "entered non zero value\n"
     ]
    }
   ],
   "source": [
    "a = int(input(\"enter a value \"))\n",
    "if a:\n",
    "    print(\"entered non zero value\")\n",
    "else:\n",
    "    print(\"entered zero which is invalid\")"
   ]
  },
  {
   "cell_type": "code",
   "execution_count": 11,
   "metadata": {},
   "outputs": [
    {
     "name": "stdout",
     "output_type": "stream",
     "text": [
      "enter a value10\n",
      "enter b value11\n",
      "enter c value12\n",
      "c is greater\n"
     ]
    }
   ],
   "source": [
    "a = int(input(\"enter a value\"))#10   12  10\n",
    "b = int(input(\"enter b value\"))#12   11  11\n",
    "c= int(input(\"enter c value\"))#11    10  12\n",
    "if a>b and a>c:\n",
    "    print(\"a is greater\")\n",
    "elif b>c:\n",
    "    print(\"b is greater\")\n",
    "else:\n",
    "    print(\"c is greater\")"
   ]
  },
  {
   "cell_type": "code",
   "execution_count": null,
   "metadata": {},
   "outputs": [],
   "source": []
  }
 ],
 "metadata": {
  "kernelspec": {
   "display_name": "Python 3",
   "language": "python",
   "name": "python3"
  },
  "language_info": {
   "codemirror_mode": {
    "name": "ipython",
    "version": 3
   },
   "file_extension": ".py",
   "mimetype": "text/x-python",
   "name": "python",
   "nbconvert_exporter": "python",
   "pygments_lexer": "ipython3",
   "version": "3.8.5"
  }
 },
 "nbformat": 4,
 "nbformat_minor": 4
}
