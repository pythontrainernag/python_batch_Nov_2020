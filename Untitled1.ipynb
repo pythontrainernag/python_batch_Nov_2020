{
 "cells": [
  {
   "cell_type": "markdown",
   "metadata": {},
   "source": [
    "#### Expression:"
   ]
  },
  {
   "cell_type": "raw",
   "metadata": {},
   "source": [
    "4*3+(5-10)"
   ]
  },
  {
   "cell_type": "markdown",
   "metadata": {},
   "source": [
    "#### Assignment Statement:"
   ]
  },
  {
   "cell_type": "raw",
   "metadata": {},
   "source": [
    "a = 10\n",
    "b = a \n",
    "c = [10, \\\n",
    "    12, \n",
    "    13] # ---> multi line statement"
   ]
  }
 ],
 "metadata": {
  "kernelspec": {
   "display_name": "Python 3",
   "language": "python",
   "name": "python3"
  },
  "language_info": {
   "codemirror_mode": {
    "name": "ipython",
    "version": 3
   },
   "file_extension": ".py",
   "mimetype": "text/x-python",
   "name": "python",
   "nbconvert_exporter": "python",
   "pygments_lexer": "ipython3",
   "version": "3.8.5"
  }
 },
 "nbformat": 4,
 "nbformat_minor": 4
}
